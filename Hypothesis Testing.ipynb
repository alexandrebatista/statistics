{
 "cells": [
  {
   "cell_type": "markdown",
   "metadata": {},
   "source": [
    "# Hypothesis Testing\n",
    "\n",
    "When we are dealing with something that we don't understand completely, the usual approach is to make guesses about it. In a formal situation, this guesses are formally defined and are called hypothesis. And they should be testable, by experiment or observation. The hypothesis are conjectures about the statistical model of the observations.\n",
    "\n",
    "Normally, the proposal of a hypothesis should have a hypothesis statement. A hypothesis statement has an if-then structure using the independent and the dependent variables, something like: 'If (this happens with an independent variable) then (that happens with the dependent variable)'.\n",
    "\n",
    "A good hypothesis testing should:\n",
    "\n",
    "1. Have the if-then structure, using the independent and dependent variables.\n",
    "2. Be testable.\n",
    "3. Be created using some kind of information of prior research.\n",
    "\n",
    "So, once we have a hypothesis with its statement, we have to evaluate whether it is good or not. For this purpose, we'll use the hypothesis testing. The hypothesis testing will give us the probability of the hypothesis to be true.\n",
    "\n",
    "For to use a hypothesis testing, we shoud:\n",
    "\n",
    "1. Figure out the null hypothesis, referenced as $H_0$, of the problem. The null hypothesis is a general statement about the problem, the simplest view. In a pratical way, it is the value of some parameter. It's commonly used as the probability of the observations are result of pure chance. For example: The flip of a coin has $H_0=1/2$, because the coin has two sides and the chance of each side is $1/2$. A null hypothesis is the default idea that a paramen of the problem can be $=$, $\\leq$ or $\\geq$ some value.\n",
    "2. Define a alternative hypothesis, referenced as $H_a$. The alternative hypothesis puts yourself against the null hypothesish $H_0$ and $H_a$ are mathematical opposites. It usually an hypothesis that has been researched.\n",
    "3. Choose the test that will be applied and apply it.\n",
    "4. Calculate the p-value. Assuming $H_0$ is true, the p-value is the probability to obtain a sample more extreme (respects more $H_0$) than the observed in data. For example: If $H_0: \\mu = 5$ and the observed data has $\\mu = 5,17$, then a more extreme dataset has $\\mu$ closer to 5 with probability equals to the p-value.\n",
    "\n",
    "Let's suppose that we have a problem to apply our hypothesis testing. So, this problem has a set of samples:\n",
    "\n",
    "$$S = \\{s_1, s_2, s_3, ..., s_n\\}$$ \n",
    "\n",
    "Where:\n",
    "- $s_i$ is each sample,\n",
    "- $n$ is the number of samples. \n",
    "\n",
    "Once we have this observations, we can analyze them and create an null hypothesis, like:\n",
    "\n",
    "$$H_0: \\mu = 50$$\n",
    "\n",
    "And immediately:\n",
    "\n",
    "$$H_a: \\mu \\neq 50$$\n",
    "\n",
    "Our null hypothesis gives the mean $\\mu$, but how we have some samples, we can use them to calculate the mean $\\bar{s}$ of the samples. So, the closer $\\bar{s}$ is from 50, stronger the null hypothesis gets. But what if the samples observed are rare? In this case, assume a stronger null hypothesis is wrong.\n",
    "\n",
    "A test that we could use in this case is the Z-Test. We have the mean thanks to the null hypothesis, and if we get $n$ new samples, the probability of the $\\bar{s}_{new}$ is higher around 50, and the probability gets lower as the distance from 50 increases. That's a normal distribution and we can use it with the formula:\n",
    "\n",
    "$$Z = \\frac{\\bar{s} - \\mu}{\\sigma \\sqrt{n}}$$\n",
    "\n",
    "The p-value has to be calculated using Z-table and the alpha value defined."
   ]
  },
  {
   "cell_type": "code",
   "execution_count": null,
   "metadata": {},
   "outputs": [],
   "source": []
  }
 ],
 "metadata": {
  "kernelspec": {
   "display_name": "Python 3",
   "language": "python",
   "name": "python3"
  },
  "language_info": {
   "codemirror_mode": {
    "name": "ipython",
    "version": 3
   },
   "file_extension": ".py",
   "mimetype": "text/x-python",
   "name": "python",
   "nbconvert_exporter": "python",
   "pygments_lexer": "ipython3",
   "version": "3.7.3"
  }
 },
 "nbformat": 4,
 "nbformat_minor": 2
}
